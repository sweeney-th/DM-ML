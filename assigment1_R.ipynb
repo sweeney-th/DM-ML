{
 "cells": [
  {
   "cell_type": "code",
   "execution_count": 9,
   "metadata": {},
   "outputs": [
    {
     "data": {
      "text/html": [
       "<table>\n",
       "<thead><tr><th scope=col>Visits</th><th scope=col>Transactions</th><th scope=col>OS</th><th scope=col>Gender</th><th scope=col>Revenue</th></tr></thead>\n",
       "<tbody>\n",
       "\t<tr><td> 7       </td><td>0        </td><td>Android  </td><td>Male     </td><td>   0.0000</td></tr>\n",
       "\t<tr><td>20       </td><td>1        </td><td>iOS      </td><td>NA       </td><td> 576.8668</td></tr>\n",
       "\t<tr><td>22       </td><td>1        </td><td>iOS      </td><td>Female   </td><td> 850.0000</td></tr>\n",
       "\t<tr><td>24       </td><td>2        </td><td>iOS      </td><td>Female   </td><td>1050.0000</td></tr>\n",
       "\t<tr><td> 1       </td><td>0        </td><td>Android  </td><td>Male     </td><td>   0.0000</td></tr>\n",
       "\t<tr><td>13       </td><td>1        </td><td>Android  </td><td>Male     </td><td> 460.0000</td></tr>\n",
       "</tbody>\n",
       "</table>\n"
      ],
      "text/latex": [
       "\\begin{tabular}{r|lllll}\n",
       " Visits & Transactions & OS & Gender & Revenue\\\\\n",
       "\\hline\n",
       "\t  7        & 0         & Android   & Male      &    0.0000\\\\\n",
       "\t 20        & 1         & iOS       & NA        &  576.8668\\\\\n",
       "\t 22        & 1         & iOS       & Female    &  850.0000\\\\\n",
       "\t 24        & 2         & iOS       & Female    & 1050.0000\\\\\n",
       "\t  1        & 0         & Android   & Male      &    0.0000\\\\\n",
       "\t 13        & 1         & Android   & Male      &  460.0000\\\\\n",
       "\\end{tabular}\n"
      ],
      "text/markdown": [
       "\n",
       "Visits | Transactions | OS | Gender | Revenue | \n",
       "|---|---|---|---|---|---|\n",
       "|  7        | 0         | Android   | Male      |    0.0000 | \n",
       "| 20        | 1         | iOS       | NA        |  576.8668 | \n",
       "| 22        | 1         | iOS       | Female    |  850.0000 | \n",
       "| 24        | 2         | iOS       | Female    | 1050.0000 | \n",
       "|  1        | 0         | Android   | Male      |    0.0000 | \n",
       "| 13        | 1         | Android   | Male      |  460.0000 | \n",
       "\n",
       "\n"
      ],
      "text/plain": [
       "  Visits Transactions OS      Gender Revenue  \n",
       "1  7     0            Android Male      0.0000\n",
       "2 20     1            iOS     NA      576.8668\n",
       "3 22     1            iOS     Female  850.0000\n",
       "4 24     2            iOS     Female 1050.0000\n",
       "5  1     0            Android Male      0.0000\n",
       "6 13     1            Android Male    460.0000"
      ]
     },
     "metadata": {},
     "output_type": "display_data"
    },
    {
     "name": "stdout",
     "output_type": "stream",
     "text": [
      "'data.frame':\t22800 obs. of  5 variables:\n",
      " $ Visits      : int  7 20 22 24 1 13 23 14 11 24 ...\n",
      " $ Transactions: int  0 1 1 2 0 1 2 1 1 2 ...\n",
      " $ OS          : Factor w/ 2 levels \"Android\",\"iOS\": 1 2 2 2 1 1 2 1 1 2 ...\n",
      " $ Gender      : Factor w/ 2 levels \"Female\",\"Male\": 2 NA 1 1 2 2 2 2 2 2 ...\n",
      " $ Revenue     : num  0 577 850 1050 0 ...\n"
     ]
    }
   ],
   "source": [
    "# read our data in\n",
    "data = read.csv('customertxndata.csv')\n",
    "\n",
    "# take a look using head()\n",
    "head(data)\n",
    "\n",
    "# look at the structure of data\n",
    "str(data)"
   ]
  },
  {
   "cell_type": "code",
   "execution_count": 61,
   "metadata": {},
   "outputs": [
    {
     "data": {
      "text/html": [
       "22800"
      ],
      "text/latex": [
       "22800"
      ],
      "text/markdown": [
       "22800"
      ],
      "text/plain": [
       "[1] 22800"
      ]
     },
     "metadata": {},
     "output_type": "display_data"
    },
    {
     "data": {
      "text/html": [
       "<table>\n",
       "<thead><tr><th></th><th scope=col>Visits</th><th scope=col>Transactions</th><th scope=col>OS</th><th scope=col>Gender</th><th scope=col>Revenue</th></tr></thead>\n",
       "<tbody>\n",
       "\t<tr><th scope=row>1</th><td> 7     </td><td>0      </td><td>Android</td><td>Male   </td><td>   0   </td></tr>\n",
       "\t<tr><th scope=row>3</th><td>22     </td><td>1      </td><td>iOS    </td><td>Female </td><td> 850   </td></tr>\n",
       "\t<tr><th scope=row>4</th><td>24     </td><td>2      </td><td>iOS    </td><td>Female </td><td>1050   </td></tr>\n",
       "\t<tr><th scope=row>5</th><td> 1     </td><td>0      </td><td>Android</td><td>Male   </td><td>   0   </td></tr>\n",
       "\t<tr><th scope=row>6</th><td>13     </td><td>1      </td><td>Android</td><td>Male   </td><td> 460   </td></tr>\n",
       "\t<tr><th scope=row>7</th><td>23     </td><td>2      </td><td>iOS    </td><td>Male   </td><td>1850   </td></tr>\n",
       "</tbody>\n",
       "</table>\n"
      ],
      "text/latex": [
       "\\begin{tabular}{r|lllll}\n",
       "  & Visits & Transactions & OS & Gender & Revenue\\\\\n",
       "\\hline\n",
       "\t1 &  7      & 0       & Android & Male    &    0   \\\\\n",
       "\t3 & 22      & 1       & iOS     & Female  &  850   \\\\\n",
       "\t4 & 24      & 2       & iOS     & Female  & 1050   \\\\\n",
       "\t5 &  1      & 0       & Android & Male    &    0   \\\\\n",
       "\t6 & 13      & 1       & Android & Male    &  460   \\\\\n",
       "\t7 & 23      & 2       & iOS     & Male    & 1850   \\\\\n",
       "\\end{tabular}\n"
      ],
      "text/markdown": [
       "\n",
       "| <!--/--> | Visits | Transactions | OS | Gender | Revenue | \n",
       "|---|---|---|---|---|---|\n",
       "| 1 |  7      | 0       | Android | Male    |    0    | \n",
       "| 3 | 22      | 1       | iOS     | Female  |  850    | \n",
       "| 4 | 24      | 2       | iOS     | Female  | 1050    | \n",
       "| 5 |  1      | 0       | Android | Male    |    0    | \n",
       "| 6 | 13      | 1       | Android | Male    |  460    | \n",
       "| 7 | 23      | 2       | iOS     | Male    | 1850    | \n",
       "\n",
       "\n"
      ],
      "text/plain": [
       "  Visits Transactions OS      Gender Revenue\n",
       "1  7     0            Android Male      0   \n",
       "3 22     1            iOS     Female  850   \n",
       "4 24     2            iOS     Female 1050   \n",
       "5  1     0            Android Male      0   \n",
       "6 13     1            Android Male    460   \n",
       "7 23     2            iOS     Male   1850   "
      ]
     },
     "metadata": {},
     "output_type": "display_data"
    },
    {
     "data": {
      "text/html": [
       "15600"
      ],
      "text/latex": [
       "15600"
      ],
      "text/markdown": [
       "15600"
      ],
      "text/plain": [
       "[1] 15600"
      ]
     },
     "metadata": {},
     "output_type": "display_data"
    },
    {
     "data": {
      "text/html": [
       "12.4864912280702"
      ],
      "text/latex": [
       "12.4864912280702"
      ],
      "text/markdown": [
       "12.4864912280702"
      ],
      "text/plain": [
       "[1] 12.48649"
      ]
     },
     "metadata": {},
     "output_type": "display_data"
    }
   ],
   "source": [
    "# total number of entries is the number of rows\n",
    "total_entries <- nrow(data)\n",
    "total_entries\n",
    "\n",
    "complete_data <- na.omit(data)\n",
    "head(complete_data)\n",
    "nrow(complete_data)\n",
    "\n",
    "mean_visits <- mean(data$Visits)\n",
    "mean_visits\n"
   ]
  }
 ],
 "metadata": {
  "kernelspec": {
   "display_name": "R",
   "language": "R",
   "name": "ir"
  },
  "language_info": {
   "codemirror_mode": "r",
   "file_extension": ".r",
   "mimetype": "text/x-r-source",
   "name": "R",
   "pygments_lexer": "r",
   "version": "3.4.1"
  }
 },
 "nbformat": 4,
 "nbformat_minor": 2
}
