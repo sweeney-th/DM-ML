{
 "cells": [
  {
   "cell_type": "markdown",
   "metadata": {},
   "source": [
    "DONE-(5 pts) Locate the data set and load the data into R. \n",
    "\n",
    "DONE-(10 pts) Calculate the following summative statistics: total number of cases, mean number of visits, median revenue, maximum and minimum number of transactions, most commonly used operating system. Exclude any cases where there is a missing value.\n",
    "\n",
    "(15 pts) Create a scatterplot of number of visits (x-axis) versus revenue (y-axis). Comment on the correlation between the two variables.\n",
    "\n",
    "(10 pts) Which columns have missing data? How did you recognize them? How would you impute missing values?\n",
    "\n",
    "(15 pts) Impute missing transaction and gender values.\n",
    "\n",
    "(20 pts) Split the data set into two equally sized data sets where one can be used for training a model and the other for validation. Take every odd numbered case and add them to the training data set and every even numbered case and add them to the validation data set, i.e., row 1, 3, 5, 7, etc. are training data while rows 2, 4, 6, etc. are validation data.\n",
    "\n",
    "(10 pts) Calculate the mean revenue for each data set and compare them. Comment on the difference.\n",
    "\n",
    "(15 pts) For many data mining and machine learning tasks, there are packages in R. Find at least one package that has functions for creating training and validation data subsets and show how to use them."
   ]
  },
  {
   "cell_type": "markdown",
   "metadata": {},
   "source": [
    "# Load data into R\n"
   ]
  },
  {
   "cell_type": "code",
   "execution_count": 6,
   "metadata": {},
   "outputs": [
    {
     "data": {
      "text/html": [
       "<table>\n",
       "<thead><tr><th scope=col>Visits</th><th scope=col>Transactions</th><th scope=col>OS</th><th scope=col>Gender</th><th scope=col>Revenue</th></tr></thead>\n",
       "<tbody>\n",
       "\t<tr><td> 7       </td><td>0        </td><td>Android  </td><td>Male     </td><td>   0.0000</td></tr>\n",
       "\t<tr><td>20       </td><td>1        </td><td>iOS      </td><td>NA       </td><td> 576.8668</td></tr>\n",
       "\t<tr><td>22       </td><td>1        </td><td>iOS      </td><td>Female   </td><td> 850.0000</td></tr>\n",
       "\t<tr><td>24       </td><td>2        </td><td>iOS      </td><td>Female   </td><td>1050.0000</td></tr>\n",
       "\t<tr><td> 1       </td><td>0        </td><td>Android  </td><td>Male     </td><td>   0.0000</td></tr>\n",
       "\t<tr><td>13       </td><td>1        </td><td>Android  </td><td>Male     </td><td> 460.0000</td></tr>\n",
       "</tbody>\n",
       "</table>\n"
      ],
      "text/latex": [
       "\\begin{tabular}{r|lllll}\n",
       " Visits & Transactions & OS & Gender & Revenue\\\\\n",
       "\\hline\n",
       "\t  7        & 0         & Android   & Male      &    0.0000\\\\\n",
       "\t 20        & 1         & iOS       & NA        &  576.8668\\\\\n",
       "\t 22        & 1         & iOS       & Female    &  850.0000\\\\\n",
       "\t 24        & 2         & iOS       & Female    & 1050.0000\\\\\n",
       "\t  1        & 0         & Android   & Male      &    0.0000\\\\\n",
       "\t 13        & 1         & Android   & Male      &  460.0000\\\\\n",
       "\\end{tabular}\n"
      ],
      "text/markdown": [
       "\n",
       "Visits | Transactions | OS | Gender | Revenue | \n",
       "|---|---|---|---|---|---|\n",
       "|  7        | 0         | Android   | Male      |    0.0000 | \n",
       "| 20        | 1         | iOS       | NA        |  576.8668 | \n",
       "| 22        | 1         | iOS       | Female    |  850.0000 | \n",
       "| 24        | 2         | iOS       | Female    | 1050.0000 | \n",
       "|  1        | 0         | Android   | Male      |    0.0000 | \n",
       "| 13        | 1         | Android   | Male      |  460.0000 | \n",
       "\n",
       "\n"
      ],
      "text/plain": [
       "  Visits Transactions OS      Gender Revenue  \n",
       "1  7     0            Android Male      0.0000\n",
       "2 20     1            iOS     NA      576.8668\n",
       "3 22     1            iOS     Female  850.0000\n",
       "4 24     2            iOS     Female 1050.0000\n",
       "5  1     0            Android Male      0.0000\n",
       "6 13     1            Android Male    460.0000"
      ]
     },
     "metadata": {},
     "output_type": "display_data"
    },
    {
     "name": "stdout",
     "output_type": "stream",
     "text": [
      "'data.frame':\t22800 obs. of  5 variables:\n",
      " $ Visits      : int  7 20 22 24 1 13 23 14 11 24 ...\n",
      " $ Transactions: int  0 1 1 2 0 1 2 1 1 2 ...\n",
      " $ OS          : Factor w/ 2 levels \"Android\",\"iOS\": 1 2 2 2 1 1 2 1 1 2 ...\n",
      " $ Gender      : Factor w/ 2 levels \"Female\",\"Male\": 2 NA 1 1 2 2 2 2 2 2 ...\n",
      " $ Revenue     : num  0 577 850 1050 0 ...\n"
     ]
    }
   ],
   "source": [
    "# read our data in\n",
    "data = read.csv('customertxndata.csv')\n",
    "\n",
    "# take a look using head()\n",
    "head(data)\n",
    "\n",
    "# look at the structure of data\n",
    "str(data)"
   ]
  },
  {
   "cell_type": "markdown",
   "metadata": {},
   "source": [
    "# Summative Statistics"
   ]
  },
  {
   "cell_type": "code",
   "execution_count": 67,
   "metadata": {},
   "outputs": [
    {
     "data": {
      "text/html": [
       "22800"
      ],
      "text/latex": [
       "22800"
      ],
      "text/markdown": [
       "22800"
      ],
      "text/plain": [
       "[1] 22800"
      ]
     },
     "metadata": {},
     "output_type": "display_data"
    },
    {
     "name": "stdout",
     "output_type": "stream",
     "text": [
      "[1] \"Entries with all data\"\n"
     ]
    },
    {
     "data": {
      "text/html": [
       "15600"
      ],
      "text/latex": [
       "15600"
      ],
      "text/markdown": [
       "15600"
      ],
      "text/plain": [
       "[1] 15600"
      ]
     },
     "metadata": {},
     "output_type": "display_data"
    },
    {
     "name": "stdout",
     "output_type": "stream",
     "text": [
      "[1] \"Mean visits:\"\n"
     ]
    },
    {
     "data": {
      "text/html": [
       "12.5926282051282"
      ],
      "text/latex": [
       "12.5926282051282"
      ],
      "text/markdown": [
       "12.5926282051282"
      ],
      "text/plain": [
       "[1] 12.59263"
      ]
     },
     "metadata": {},
     "output_type": "display_data"
    },
    {
     "name": "stdout",
     "output_type": "stream",
     "text": [
      "[1] \"Median revenue:\"\n"
     ]
    },
    {
     "data": {
      "text/html": [
       "360"
      ],
      "text/latex": [
       "360"
      ],
      "text/markdown": [
       "360"
      ],
      "text/plain": [
       "[1] 360"
      ]
     },
     "metadata": {},
     "output_type": "display_data"
    },
    {
     "name": "stdout",
     "output_type": "stream",
     "text": [
      "[1] \"Most Common OS:\"\n",
      "[1] \"Android more common than IOs\"\n"
     ]
    },
    {
     "data": {
      "text/html": [
       "TRUE"
      ],
      "text/latex": [
       "TRUE"
      ],
      "text/markdown": [
       "TRUE"
      ],
      "text/plain": [
       "[1] TRUE"
      ]
     },
     "metadata": {},
     "output_type": "display_data"
    },
    {
     "name": "stdout",
     "output_type": "stream",
     "text": [
      "[1] \"Max transactions\"\n"
     ]
    },
    {
     "data": {
      "text/html": [
       "2"
      ],
      "text/latex": [
       "2"
      ],
      "text/markdown": [
       "2"
      ],
      "text/plain": [
       "[1] 2"
      ]
     },
     "metadata": {},
     "output_type": "display_data"
    },
    {
     "name": "stdout",
     "output_type": "stream",
     "text": [
      "[1] \"Min transactions\"\n"
     ]
    },
    {
     "data": {
      "text/html": [
       "0"
      ],
      "text/latex": [
       "0"
      ],
      "text/markdown": [
       "0"
      ],
      "text/plain": [
       "[1] 0"
      ]
     },
     "metadata": {},
     "output_type": "display_data"
    },
    {
     "data": {
      "text/html": [
       "<table>\n",
       "<thead><tr><th></th><th scope=col>Visits</th><th scope=col>Transactions</th><th scope=col>OS</th><th scope=col>Gender</th><th scope=col>Revenue</th></tr></thead>\n",
       "<tbody>\n",
       "\t<tr><th scope=row>1</th><td> 7     </td><td>0      </td><td>Android</td><td>Male   </td><td>   0   </td></tr>\n",
       "\t<tr><th scope=row>3</th><td>22     </td><td>1      </td><td>iOS    </td><td>Female </td><td> 850   </td></tr>\n",
       "\t<tr><th scope=row>4</th><td>24     </td><td>2      </td><td>iOS    </td><td>Female </td><td>1050   </td></tr>\n",
       "\t<tr><th scope=row>5</th><td> 1     </td><td>0      </td><td>Android</td><td>Male   </td><td>   0   </td></tr>\n",
       "\t<tr><th scope=row>6</th><td>13     </td><td>1      </td><td>Android</td><td>Male   </td><td> 460   </td></tr>\n",
       "\t<tr><th scope=row>7</th><td>23     </td><td>2      </td><td>iOS    </td><td>Male   </td><td>1850   </td></tr>\n",
       "</tbody>\n",
       "</table>\n"
      ],
      "text/latex": [
       "\\begin{tabular}{r|lllll}\n",
       "  & Visits & Transactions & OS & Gender & Revenue\\\\\n",
       "\\hline\n",
       "\t1 &  7      & 0       & Android & Male    &    0   \\\\\n",
       "\t3 & 22      & 1       & iOS     & Female  &  850   \\\\\n",
       "\t4 & 24      & 2       & iOS     & Female  & 1050   \\\\\n",
       "\t5 &  1      & 0       & Android & Male    &    0   \\\\\n",
       "\t6 & 13      & 1       & Android & Male    &  460   \\\\\n",
       "\t7 & 23      & 2       & iOS     & Male    & 1850   \\\\\n",
       "\\end{tabular}\n"
      ],
      "text/markdown": [
       "\n",
       "| <!--/--> | Visits | Transactions | OS | Gender | Revenue | \n",
       "|---|---|---|---|---|---|\n",
       "| 1 |  7      | 0       | Android | Male    |    0    | \n",
       "| 3 | 22      | 1       | iOS     | Female  |  850    | \n",
       "| 4 | 24      | 2       | iOS     | Female  | 1050    | \n",
       "| 5 |  1      | 0       | Android | Male    |    0    | \n",
       "| 6 | 13      | 1       | Android | Male    |  460    | \n",
       "| 7 | 23      | 2       | iOS     | Male    | 1850    | \n",
       "\n",
       "\n"
      ],
      "text/plain": [
       "  Visits Transactions OS      Gender Revenue\n",
       "1  7     0            Android Male      0   \n",
       "3 22     1            iOS     Female  850   \n",
       "4 24     2            iOS     Female 1050   \n",
       "5  1     0            Android Male      0   \n",
       "6 13     1            Android Male    460   \n",
       "7 23     2            iOS     Male   1850   "
      ]
     },
     "metadata": {},
     "output_type": "display_data"
    }
   ],
   "source": [
    "# total number of entries is the number of rows\n",
    "total_entries <- nrow(data)\n",
    "total_entries\n",
    "\n",
    "print(\"Entries with all data\")\n",
    "# na.omit removes all rows containing NA\n",
    "complete_data <- na.omit(data)\n",
    "nrow(complete_data)\n",
    "\n",
    "print(\"Mean visits:\")\n",
    "# mean() is a built in function\n",
    "mean_visits <- mean(complete_data$Visits)\n",
    "mean_visits\n",
    "\n",
    "print(\"Median revenue:\")\n",
    "# median() is a built in fuction\n",
    "median_revenue <- median(complete_data$Revenue)\n",
    "median_revenue\n",
    "\n",
    "\n",
    "print(\"Most Common OS:\")\n",
    "# which will create subsets based specified criteria\n",
    "android_users <- which(complete_data$OS == \"Android\")\n",
    "iOS_users <- which(complete_data$OS == \"iOS\")\n",
    "print(\"Android more common than IOs\")\n",
    "length(android_users) > length(iOS_users)\n",
    "\n",
    "print(\"Max transactions\")\n",
    "max(complete_data$Transactions)\n",
    "print(\"Min transactions\")\n",
    "min(complete_data$Transactions)"
   ]
  },
  {
   "cell_type": "markdown",
   "metadata": {},
   "source": [
    "# Which columns have missing data?"
   ]
  },
  {
   "cell_type": "code",
   "execution_count": 75,
   "metadata": {},
   "outputs": [
    {
     "data": {
      "text/html": [
       "<table>\n",
       "<thead><tr><th scope=col>Visits</th><th scope=col>Transactions</th><th scope=col>OS</th><th scope=col>Gender</th><th scope=col>Revenue</th></tr></thead>\n",
       "<tbody>\n",
       "\t<tr><td>FALSE</td><td>FALSE</td><td>FALSE</td><td>FALSE</td><td>FALSE</td></tr>\n",
       "\t<tr><td>FALSE</td><td>FALSE</td><td>FALSE</td><td> TRUE</td><td>FALSE</td></tr>\n",
       "\t<tr><td>FALSE</td><td>FALSE</td><td>FALSE</td><td>FALSE</td><td>FALSE</td></tr>\n",
       "\t<tr><td>FALSE</td><td>FALSE</td><td>FALSE</td><td>FALSE</td><td>FALSE</td></tr>\n",
       "\t<tr><td>FALSE</td><td>FALSE</td><td>FALSE</td><td>FALSE</td><td>FALSE</td></tr>\n",
       "\t<tr><td>FALSE</td><td>FALSE</td><td>FALSE</td><td>FALSE</td><td>FALSE</td></tr>\n",
       "</tbody>\n",
       "</table>\n"
      ],
      "text/latex": [
       "\\begin{tabular}{lllll}\n",
       " Visits & Transactions & OS & Gender & Revenue\\\\\n",
       "\\hline\n",
       "\t FALSE & FALSE & FALSE & FALSE & FALSE\\\\\n",
       "\t FALSE & FALSE & FALSE &  TRUE & FALSE\\\\\n",
       "\t FALSE & FALSE & FALSE & FALSE & FALSE\\\\\n",
       "\t FALSE & FALSE & FALSE & FALSE & FALSE\\\\\n",
       "\t FALSE & FALSE & FALSE & FALSE & FALSE\\\\\n",
       "\t FALSE & FALSE & FALSE & FALSE & FALSE\\\\\n",
       "\\end{tabular}\n"
      ],
      "text/markdown": [
       "\n",
       "Visits | Transactions | OS | Gender | Revenue | \n",
       "|---|---|---|---|---|---|\n",
       "| FALSE | FALSE | FALSE | FALSE | FALSE | \n",
       "| FALSE | FALSE | FALSE |  TRUE | FALSE | \n",
       "| FALSE | FALSE | FALSE | FALSE | FALSE | \n",
       "| FALSE | FALSE | FALSE | FALSE | FALSE | \n",
       "| FALSE | FALSE | FALSE | FALSE | FALSE | \n",
       "| FALSE | FALSE | FALSE | FALSE | FALSE | \n",
       "\n",
       "\n"
      ],
      "text/plain": [
       "     Visits Transactions OS    Gender Revenue\n",
       "[1,] FALSE  FALSE        FALSE FALSE  FALSE  \n",
       "[2,] FALSE  FALSE        FALSE  TRUE  FALSE  \n",
       "[3,] FALSE  FALSE        FALSE FALSE  FALSE  \n",
       "[4,] FALSE  FALSE        FALSE FALSE  FALSE  \n",
       "[5,] FALSE  FALSE        FALSE FALSE  FALSE  \n",
       "[6,] FALSE  FALSE        FALSE FALSE  FALSE  "
      ]
     },
     "metadata": {},
     "output_type": "display_data"
    }
   ],
   "source": [
    "# entries_with_missing_data <- data[is.na(data)]\n",
    "# str(entries_with_missing_data)\n",
    "\n",
    "incomplete_data <- is.na(data)\n",
    "head(incomplete_data)\n"
   ]
  },
  {
   "cell_type": "code",
   "execution_count": 106,
   "metadata": {},
   "outputs": [
    {
     "data": {
      "text/html": [
       "33"
      ],
      "text/latex": [
       "33"
      ],
      "text/markdown": [
       "33"
      ],
      "text/plain": [
       "[1] 33"
      ]
     },
     "metadata": {},
     "output_type": "display_data"
    }
   ],
   "source": [
    "floor(runif(1,1,100))"
   ]
  }
 ],
 "metadata": {
  "kernelspec": {
   "display_name": "R",
   "language": "R",
   "name": "ir"
  },
  "language_info": {
   "codemirror_mode": "r",
   "file_extension": ".r",
   "mimetype": "text/x-r-source",
   "name": "R",
   "pygments_lexer": "r",
   "version": "3.4.1"
  }
 },
 "nbformat": 4,
 "nbformat_minor": 2
}
