{
 "cells": [
  {
   "cell_type": "markdown",
   "metadata": {},
   "source": [
    "# Import the data, remove the header, look at the first few lines"
   ]
  },
  {
   "cell_type": "code",
   "execution_count": 291,
   "metadata": {},
   "outputs": [
    {
     "name": "stdout",
     "output_type": "stream",
     "text": [
      "Total number of entries: 22800\n",
      "Preview of data:\n",
      "['Visits', 'Transactions', 'OS', 'Gender', 'Revenue']\n",
      "['7', '0', 'Android', 'Male', '0']\n",
      "['20', '1', 'iOS', 'NA', '576.866774966349']\n",
      "['22', '1', 'iOS', 'Female', '850']\n",
      "['24', '2', 'iOS', 'Female', '1050']\n",
      "['1', '0', 'Android', 'Male', '0']\n",
      "['13', '1', 'Android', 'Male', '460']\n",
      "['23', '2', 'iOS', 'Male', '1850']\n",
      "['14', '1', 'Android', 'Male', '480']\n",
      "['11', '1', 'Android', 'Male', '110']\n",
      "['24', '2', 'iOS', 'Male', '1950']\n",
      "['17', '1', 'Android', 'Male', '225']\n",
      "['14', '1', 'Android', 'NA', '344.651613803221']\n",
      "['2', '0', 'Android', 'Male', '0']\n",
      "['8', '1', 'Android', 'NA', '344.651613803221']\n",
      "['24', '2', 'iOS', 'Male', '1850']\n"
     ]
    }
   ],
   "source": [
    "import numpy as np\n",
    "import random\n",
    "import csv\n",
    "\n",
    "with open('customertxndata.csv') as infile:\n",
    "    input_data = csv.reader(infile)\n",
    "    raw_data = list(input_data)\n",
    "    header = raw_data[0]\n",
    "    data = raw_data[1:]\n",
    "\n",
    "print(\"Total number of entries:\", len(data))\n",
    "print(\"Preview of data:\")\n",
    "print(header)\n",
    "\n",
    "# preview data \n",
    "for line in data[:15]: \n",
    "    print(line)\n",
    "\n",
    "    "
   ]
  },
  {
   "cell_type": "markdown",
   "metadata": {},
   "source": [
    "# Remove entries with missing data/Which entries have missing data?\n",
    "TO-DO flesh this out more\n",
    "\n",
    "Looking through the file with 'head' and 'tail' suggests that missing data is filled in with 'NA'\n"
   ]
  },
  {
   "cell_type": "code",
   "execution_count": 283,
   "metadata": {},
   "outputs": [
    {
     "name": "stdout",
     "output_type": "stream",
     "text": [
      "Number of complete entries': 15600\n",
      "Percent entries with complete data: 68.42\n"
     ]
    }
   ],
   "source": [
    "# find data with missing information and read it into a list \n",
    "\n",
    "complete_data = []\n",
    "for item in data:\n",
    "    if 'NA' not in item:\n",
    "        complete_data.append(item)\n",
    "    elif 'NA' in item:\n",
    "        pass\n",
    "\n",
    "print(\"Number of complete entries':\", len(complete_data))\n",
    "\n",
    "percent_complete_entries = round(len(complete_data)/len(data) * 100, 2)\n",
    "print(\"Percent entries with complete data:\", percent_complete_entries)"
   ]
  },
  {
   "cell_type": "markdown",
   "metadata": {},
   "source": [
    "# Summative Statistics "
   ]
  },
  {
   "cell_type": "markdown",
   "metadata": {},
   "source": [
    "### Find the mean number of visits"
   ]
  },
  {
   "cell_type": "code",
   "execution_count": 285,
   "metadata": {},
   "outputs": [
    {
     "name": "stdout",
     "output_type": "stream",
     "text": [
      "Total visits: 196445\n",
      "Mean visits: 12.5926282051\n"
     ]
    }
   ],
   "source": [
    "# use a list comprehension and numpy to concisely extract visits data, concert to int, find sum\n",
    "visits = [int(row[0]) for row in complete_data]\n",
    "sum_of_visits = sum(visits)\n",
    "print(\"Total visits:\", sum_of_visits)\n",
    "\n",
    "mean_visits = np.mean(visits)\n",
    "print(\"Mean visits:\", mean_visits)"
   ]
  },
  {
   "cell_type": "markdown",
   "metadata": {},
   "source": [
    "### Find the median revenue "
   ]
  },
  {
   "cell_type": "code",
   "execution_count": 286,
   "metadata": {},
   "outputs": [
    {
     "name": "stdout",
     "output_type": "stream",
     "text": [
      "Median revenue: 360.0\n"
     ]
    }
   ],
   "source": [
    "revenue = [float(row[4]) for row in complete_data]\n",
    "median_revenue = np.median(revenue)\n",
    "print(\"Median revenue:\", median_revenue)"
   ]
  },
  {
   "cell_type": "markdown",
   "metadata": {},
   "source": [
    "### Find min and max transactions"
   ]
  },
  {
   "cell_type": "code",
   "execution_count": 192,
   "metadata": {},
   "outputs": [
    {
     "name": "stdout",
     "output_type": "stream",
     "text": [
      "Snapshot of transactions list:\n",
      " [0, 1, 2, 0, 1, 2, 1, 1, 2, 1, 0, 2, 2, 2, 1, 2, 1, 0, 1, 1, 1, 1, 1, 1, 1]\n",
      "Max transactions: 2\n",
      "Min transactions: 0\n"
     ]
    }
   ],
   "source": [
    "transactions = [int(row[1]) for row in complete_data]\n",
    "\n",
    "# convert to list from generator object to allow use of max() and min() \n",
    "transactions_list = list(transactions)\n",
    "\n",
    "# capture min/max\n",
    "max_transactions = max(transactions_list)\n",
    "min_transactions = min(transactions_list)\n",
    "\n",
    "print(\"Snapshot of transactions list:\\n\", transactions_list[:25])\n",
    "print(\"Max transactions:\", max_transactions)\n",
    "print(\"Min transactions:\", min_transactions)"
   ]
  },
  {
   "cell_type": "markdown",
   "metadata": {
    "collapsed": true
   },
   "source": [
    "### Find the most commonly used operating system \n",
    "Android by just over 2:1"
   ]
  },
  {
   "cell_type": "code",
   "execution_count": 193,
   "metadata": {},
   "outputs": [
    {
     "name": "stdout",
     "output_type": "stream",
     "text": [
      "{'Android': 10711, 'iOS': 4889}\n"
     ]
    }
   ],
   "source": [
    "# extract with list comprehension, use dict of counts idiom\n",
    "os = [row[2] for row in complete_data]\n",
    "\n",
    "os_counts = {}\n",
    "\n",
    "for item in os:\n",
    "    if item not in os_counts:\n",
    "        os_counts[item] = 1\n",
    "    else:\n",
    "        os_counts[item] += 1\n",
    "print(os_counts)\n",
    "        "
   ]
  },
  {
   "cell_type": "markdown",
   "metadata": {},
   "source": [
    "# Impute missing gender data"
   ]
  },
  {
   "cell_type": "code",
   "execution_count": 243,
   "metadata": {},
   "outputs": [
    {
     "name": "stdout",
     "output_type": "stream",
     "text": [
      "Number of male visits: 12930\n",
      "Number of female visits: 2670\n",
      "percent male visits: 82.88461538461539\n",
      "percent female visits: 17.115384615384617\n"
     ]
    }
   ],
   "source": [
    "# let's see if there is a gender-based disparity in spending or visits\n",
    "\n",
    "male_entries = [entry for entry in complete_data if entry[3] == 'Male']\n",
    "female_entries = [entry for entry in complete_data if entry[3] == 'Female']\n",
    "\n",
    "print(\"Number of male visits:\", len(male_entries))\n",
    "print(\"Number of female visits:\", len(female_entries))\n",
    "\n",
    "percent_male_visits = len(male_entries)/len(complete_data) * 100 \n",
    "percent_female_visits = len(female_entries)/len(complete_data) * 100\n",
    "\n",
    "print(\"percent male visits:\", percent_male_visits)\n",
    "print(\"percent female visits:\", percent_female_visits)\n",
    "\n",
    "# double check that the female visits + male visits adds up to the total \n",
    "assert(len(male_entries + female_entries) == len(complete_data))\n",
    "# double check that the two percents add up to 100\n",
    "assert(percent_male_visits + percent_female_visits == 100)"
   ]
  },
  {
   "cell_type": "markdown",
   "metadata": {},
   "source": [
    " A clear trend emerges in the sex of the visitors, so we will create a function that continues this distribution in imputation of gender data"
   ]
  },
  {
   "cell_type": "markdown",
   "metadata": {},
   "source": [
    "### Create missing gender imputation function "
   ]
  },
  {
   "cell_type": "code",
   "execution_count": 287,
   "metadata": {},
   "outputs": [
    {
     "name": "stdout",
     "output_type": "stream",
     "text": [
      "Percent male in test: 81.2\n",
      "Percent female in test: 18.8\n"
     ]
    }
   ],
   "source": [
    "# create a function that returns \"Male\" or \"Female\" at same distributions as they occur in the complete data set\n",
    "def impute_gender_data():\n",
    "    number = random.randint(1,100)\n",
    "    if number <= percent_male_visits:\n",
    "        return \"Male\"\n",
    "    elif number > percent_male_visits:\n",
    "        return \"Female\"\n",
    "\n",
    "# validate the function by using it 1000 times\n",
    "test_pool = []\n",
    "for iteration in range(1000):\n",
    "    test_pool.append(impute_gender_data())\n",
    "\n",
    "# find percentile occurences in the test data\n",
    "test_male = list([item for item in test_pool if item == \"Male\"])\n",
    "test_female = list([item for item in test_pool if item == \"Female\"])\n",
    "\n",
    "print(\"Percent male in test:\", len(test_male)/len(test_pool) * 100)\n",
    "print(\"Percent female in test:\", len(test_female)/len(test_pool) * 100)"
   ]
  },
  {
   "cell_type": "markdown",
   "metadata": {},
   "source": [
    "It seems that our function is working well, so we will use it for the imputation of gender data"
   ]
  },
  {
   "cell_type": "markdown",
   "metadata": {},
   "source": [
    "### Execute imputation of gender data"
   ]
  },
  {
   "cell_type": "code",
   "execution_count": 289,
   "metadata": {},
   "outputs": [],
   "source": [
    "# copy data so as not overwrite the orignal value\n",
    "gender_imputed_data = data\n",
    "    \n",
    "# call impute_gender_data() function on all missing values in new data set\n",
    "for row in gender_imputed_data:\n",
    "    if row[3] =='NA':\n",
    "        row[3] = impute_gender_data()\n"
   ]
  },
  {
   "cell_type": "markdown",
   "metadata": {},
   "source": [
    "Let's check before and after to make sure (it would probably be more memory efficient to just update data but I am being highly cautious)"
   ]
  },
  {
   "cell_type": "code",
   "execution_count": 292,
   "metadata": {},
   "outputs": [
    {
     "name": "stdout",
     "output_type": "stream",
     "text": [
      "Before imputation:\n",
      "['7', '0', 'Android', 'Male', '0']\n",
      "['20', '1', 'iOS', 'NA', '576.866774966349']\n",
      "['22', '1', 'iOS', 'Female', '850']\n",
      "['24', '2', 'iOS', 'Female', '1050']\n",
      "['1', '0', 'Android', 'Male', '0']\n",
      "['13', '1', 'Android', 'Male', '460']\n",
      "['23', '2', 'iOS', 'Male', '1850']\n",
      "['14', '1', 'Android', 'Male', '480']\n",
      "['11', '1', 'Android', 'Male', '110']\n",
      "['24', '2', 'iOS', 'Male', '1950']\n",
      "['17', '1', 'Android', 'Male', '225']\n",
      "['14', '1', 'Android', 'NA', '344.651613803221']\n",
      "['2', '0', 'Android', 'Male', '0']\n",
      "['8', '1', 'Android', 'NA', '344.651613803221']\n",
      "['24', '2', 'iOS', 'Male', '1850']\n",
      "\n",
      "After imputation:\n",
      "['7', '0', 'Android', 'Male', '0']\n",
      "['20', '1', 'iOS', 'Male', '576.866774966349']\n",
      "['22', '1', 'iOS', 'Female', '850']\n",
      "['24', '2', 'iOS', 'Female', '1050']\n",
      "['1', '0', 'Android', 'Male', '0']\n",
      "['13', '1', 'Android', 'Male', '460']\n",
      "['23', '2', 'iOS', 'Male', '1850']\n",
      "['14', '1', 'Android', 'Male', '480']\n",
      "['11', '1', 'Android', 'Male', '110']\n",
      "['24', '2', 'iOS', 'Male', '1950']\n",
      "['17', '1', 'Android', 'Male', '225']\n",
      "['14', '1', 'Android', 'Male', '344.651613803221']\n",
      "['2', '0', 'Android', 'Male', '0']\n",
      "['8', '1', 'Android', 'Male', '344.651613803221']\n",
      "['24', '2', 'iOS', 'Male', '1850']\n"
     ]
    }
   ],
   "source": [
    "print(\"Before imputation:\")\n",
    "for line in data[:15]:\n",
    "    print(line)\n",
    "\n",
    "print(\"\\nAfter imputation:\")\n",
    "for line in gender_imputed_data[:15]: \n",
    "    print(line)"
   ]
  },
  {
   "cell_type": "markdown",
   "metadata": {},
   "source": [
    "\n",
    "# Impute missing transaction data\n",
    "\n",
    "It's worth noting that there are no outliers here, so we can probably use the average ormedian safely:"
   ]
  },
  {
   "cell_type": "code",
   "execution_count": 259,
   "metadata": {},
   "outputs": [
    {
     "name": "stdout",
     "output_type": "stream",
     "text": [
      "Transaction counts: {'0': 2913, '1': 9908, '2': 2779}\n",
      "Average transactions: 0.99141025641\n",
      "Median transactions: 1.0\n"
     ]
    }
   ],
   "source": [
    "# extract transaction data, store counts in list\n",
    "transactions = [row[1] for row in complete_data]\n",
    "\n",
    "transaction_counts = {}\n",
    "\n",
    "for item in transactions:\n",
    "    if item not in transaction_counts:\n",
    "        transaction_counts[item] = 1\n",
    "    else:\n",
    "        transaction_counts[item] += 1\n",
    "\n",
    "# get stats from data\n",
    "average_transactions = np.mean(transactions_list)\n",
    "median_transactions = np.median(transactions_list)\n",
    "print(\"Entries wi\")\n",
    "print(\"Transaction counts:\", transaction_counts)\n",
    "print(\"Average transactions:\", average_transactions)\n",
    "print(\"Median transactions:\", median_transactions)"
   ]
  },
  {
   "cell_type": "markdown",
   "metadata": {},
   "source": [
    "We will go with the median to avoid introducing floats"
   ]
  },
  {
   "cell_type": "markdown",
   "metadata": {},
   "source": [
    "### Execute imputation of transaction data"
   ]
  },
  {
   "cell_type": "code",
   "execution_count": 295,
   "metadata": {},
   "outputs": [
    {
     "name": "stdout",
     "output_type": "stream",
     "text": [
      "Entries in the gender imputed data set: 22800\n"
     ]
    }
   ],
   "source": [
    "# copy over gender_imputed_data to continue imputation\n",
    "fully_imputed_data = gender_imputed_data\n",
    "\n",
    "# replace missing values with the median\n",
    "for row in fully_imputed_data:\n",
    "    if row[1] =='NA':\n",
    "        row[1] = 1\n",
    "\n",
    "# See if we have any missing data\n",
    "for row in fully_imputed_data:\n",
    "    if 'NA' in row:\n",
    "        print(\"DANGER WILL ROBINSON\")\n",
    "        \n",
    "# see if the number is what it should be\n",
    "print(\"Entries in the gender imputed data set:\", len(fully_imputed_data))\n",
    "assert(len(gender_imputed_data) == len(data))"
   ]
  },
  {
   "cell_type": "markdown",
   "metadata": {},
   "source": [
    "Let's take a look at some of the data to see if there are any 'NA's just in case"
   ]
  },
  {
   "cell_type": "code",
   "execution_count": 276,
   "metadata": {},
   "outputs": [
    {
     "name": "stdout",
     "output_type": "stream",
     "text": [
      "['7', '0', 'Android', 'Male', '0']\n",
      "['20', '1', 'iOS', 'Male', '576.866774966349']\n",
      "['22', '1', 'iOS', 'Female', '850']\n",
      "['24', '2', 'iOS', 'Female', '1050']\n",
      "['1', '0', 'Android', 'Male', '0']\n",
      "['13', '1', 'Android', 'Male', '460']\n",
      "['23', '2', 'iOS', 'Male', '1850']\n",
      "['14', '1', 'Android', 'Male', '480']\n",
      "['11', '1', 'Android', 'Male', '110']\n",
      "['24', '2', 'iOS', 'Male', '1950']\n",
      "['17', '1', 'Android', 'Male', '225']\n",
      "['14', '1', 'Android', 'Female', '344.651613803221']\n",
      "['2', '0', 'Android', 'Male', '0']\n",
      "['8', '1', 'Android', 'Male', '344.651613803221']\n",
      "['24', '2', 'iOS', 'Male', '1850']\n",
      "['23', '2', 'iOS', 'Female', '1300']\n",
      "['18', '2', 'Android', 'Male', '990.306213040332']\n",
      "['16', 1, 'Android', 'Male', '405.244133595093']\n",
      "['25', '2', 'iOS', 'Male', '1950']\n",
      "['17', '1', 'Android', 'Male', '550']\n",
      "['18', '2', 'iOS', 'Female', '1500']\n",
      "['14', '1', 'Android', 'Male', '330']\n",
      "['7', '0', 'Android', 'Male', '0']\n",
      "['3', 1, 'Android', 'Male', '121.774494043513']\n",
      "['25', '2', 'iOS', 'Male', '1222.52137420346']\n",
      "['20', '1', 'iOS', 'Female', '576.866774966349']\n",
      "['0', '0', 'Android', 'Male', '0']\n",
      "['19', 1, 'iOS', 'Male', '676.730799216931']\n",
      "['8', '1', 'Android', 'Male', '460']\n",
      "['6', 1, 'Android', 'Male', '187.190564709263']\n",
      "['10', '1', 'Android', 'Male', '360']\n",
      "['9', '1', 'Android', 'Male', '344.651613803221']\n",
      "['3', '1', 'Android', 'Male', '320']\n",
      "['3', '1', 'Android', 'Male', '340']\n",
      "['6', '1', 'Android', 'Male', '210']\n",
      "['22', '1', 'iOS', 'Male', '450']\n",
      "['1', '0', 'Android', 'Female', '0']\n",
      "['11', '1', 'Android', 'Male', '380']\n",
      "['3', '1', 'Android', 'Male', '420']\n",
      "['14', '1', 'Android', 'Male', '110']\n",
      "['5', '1', 'Android', 'Male', '344.651613803221']\n",
      "['3', '1', 'Android', 'Male', '410']\n",
      "['19', '1', 'iOS', 'Female', '925']\n",
      "['9', '1', 'Android', 'Male', '180']\n",
      "['17', '1', 'Android', 'Female', '725']\n",
      "['2', '0', 'Android', 'Male', '0']\n",
      "['9', '1', 'Android', 'Male', '190']\n",
      "['7', '0', 'Android', 'Male', '0']\n",
      "['21', '1', 'iOS', 'Female', '1000']\n",
      "['11', 1, 'Android', 'Male', '296.217349152178']\n"
     ]
    }
   ],
   "source": [
    "for row in fully_imputed_data[:50]:\n",
    "    print(row)"
   ]
  },
  {
   "cell_type": "markdown",
   "metadata": {},
   "source": [
    "# Split the data into two separate sets "
   ]
  },
  {
   "cell_type": "code",
   "execution_count": 281,
   "metadata": {},
   "outputs": [
    {
     "name": "stdout",
     "output_type": "stream",
     "text": [
      "11400\n",
      "11400\n"
     ]
    }
   ],
   "source": [
    "training_data = []\n",
    "validation_data = []\n",
    "\n",
    "iterator = 0\n",
    "for i in range(len(fully_imputed_data)):\n",
    "    row_of_interest = fully_imputed_data[iterator]\n",
    "    # test even or odd\n",
    "    if iterator % 2 == 0:\n",
    "        validation_data.append(row_of_interest)\n",
    "    else:\n",
    "        training_data.append(row_of_interest)\n",
    "    iterator += 1\n",
    "    \n",
    "print(len(training_data))\n",
    "print(len(validation_data))\n",
    "    "
   ]
  },
  {
   "cell_type": "markdown",
   "metadata": {},
   "source": [
    "DONE-(5 pts) Locate the data set and load the data into R.\n",
    "\n",
    "DONE-(10 pts) Calculate the following summative statistics:\n",
    "\n",
    "DONE-total number of cases, \n",
    "\n",
    "DONE-mean number of visits,\n",
    "\n",
    "DONE-median revenue,\n",
    "\n",
    "DONE-maximum and minimum number of transactions, \n",
    "\n",
    "DONE-most commonly used operating system. \n",
    "\n",
    "DONE-Exclude any cases where there is a missing value.\n",
    "\n",
    "(15 pts) Create a scatterplot of number of visits (x-axis) versus revenue (y-axis). Comment on the correlation between the two variables.\n",
    "\n",
    "(10 pts) Which columns have missing data? How did you recognize them? How would you impute missing values?\n",
    "\n",
    "DONE-(15 pts) Impute missing transaction and gender values.\n",
    "\n",
    "DONE-(20 pts) Split the data set into two equally sized data sets where one can be used for training a model and the other for validation. Take every odd numbered case and add them to the training data set and every even numbered case and add them to the validation data set, i.e., row 1, 3, 5, 7, etc. are training data while rows 2, 4, 6, etc. are validation data.\n",
    "\n",
    "(10 pts) Calculate the mean revenue for each data set and compare them. Comment on the difference.\n",
    "\n",
    "(15 pts) For many data mining and machine learning tasks, there are packages in R. Find at least one package that has functions for creating training and validation data subsets and show how to use them.\n"
   ]
  },
  {
   "cell_type": "markdown",
   "metadata": {},
   "source": [
    "### Add scatterplot"
   ]
  },
  {
   "cell_type": "markdown",
   "metadata": {},
   "source": [
    "### Mean revenue of training vs. validation data"
   ]
  },
  {
   "cell_type": "markdown",
   "metadata": {},
   "source": [
    "### Explain ibrary\n",
    "numpy?\n"
   ]
  },
  {
   "cell_type": "code",
   "execution_count": null,
   "metadata": {
    "collapsed": true
   },
   "outputs": [],
   "source": []
  }
 ],
 "metadata": {
  "kernelspec": {
   "display_name": "Python 3",
   "language": "python",
   "name": "python3"
  },
  "language_info": {
   "codemirror_mode": {
    "name": "ipython",
    "version": 3
   },
   "file_extension": ".py",
   "mimetype": "text/x-python",
   "name": "python",
   "nbconvert_exporter": "python",
   "pygments_lexer": "ipython3",
   "version": "3.6.1"
  }
 },
 "nbformat": 4,
 "nbformat_minor": 2
}
