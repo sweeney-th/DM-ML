{
 "cells": [
  {
   "cell_type": "markdown",
   "metadata": {},
   "source": [
    "# Visualization Practice from \"The Data Science Handbook\""
   ]
  },
  {
   "cell_type": "code",
   "execution_count": null,
   "metadata": {},
   "outputs": [],
   "source": [
    "import pandas as pd\n",
    "from matplotlib import pyplot as plt \n",
    "import sklearn.datasets \n",
    "\n",
    "# this is just to get the iris data \n",
    "def get_iris_df():\n",
    "    ds = sklearn.datasets.load_iris()\n",
    "    df = pd.DataFrame(ds['data'],columns = ds['feature_names'])\n",
    "    code_species_map = dict(zip(range(3), ds['target_names']))\n",
    "    df['species'] = [code_species_map[c] for c in ds['target']]\n",
    "    return df\n",
    "df = get_iris_df()\n",
    "\n",
    "df.head()"
   ]
  },
  {
   "cell_type": "code",
   "execution_count": null,
   "metadata": {},
   "outputs": [],
   "source": [
    "#The code to generate a basic pie chart using Pandas is very simple: \n",
    "# gets sum by species \n",
    "sums_by_species = df.groupby('species').sum()\n",
    "\n",
    "# this is the label, will be used as key\n",
    "var = 'sepal width (cm)'\n",
    "\n",
    "# initializes the plotVisualization\n",
    "sums_by_species[var].plot(kind = 'pie', fontsize = 20)\n",
    "\n",
    "# set the y label \n",
    "plt.ylabel(var, horizontalalignment='left')\n",
    "\n",
    "# make a title \n",
    "plt.title('Breakdown for ' + var, fontsize=25)\n",
    "# this is if you want to save it\n",
    "#plt.savefig('iris_pie_for_one_variable.jpg')\n",
    "#plt.close()\n",
    "\n",
    "plt.show()"
   ]
  },
  {
   "cell_type": "code",
   "execution_count": null,
   "metadata": {},
   "outputs": [],
   "source": [
    "# \n",
    "\n",
    "# get the same sum\n",
    "sums_by_species = df.groupby('species').sum()\n",
    "\n",
    "# remeber this will be a key\n",
    "var = 'sepal width (cm)'\n",
    "\n",
    "# make subplots in a 2x2\n",
    "sums_by_species.plot(kind = 'pie', subplots = True, layout = (2,2))\n",
    "\n",
    "plot.title(\"Breakdown of What have you\", fontsize = 20)\n"
   ]
  },
  {
   "cell_type": "code",
   "execution_count": null,
   "metadata": {},
   "outputs": [],
   "source": [
    "# get the same sum\n",
    "sums_by_species = df.groupby('species').sum()\n",
    "\n",
    "# remeber this will be a key\n",
    "var = 'sepal width (cm)'\n",
    "\n",
    "# make subplots in a 2x2\n",
    "sums_by_species.plot(kind = 'bar', subplots = True, layout = (2,2))\n",
    "plot.title(\"Whatever\", fontsize = 12)"
   ]
  },
  {
   "cell_type": "code",
   "execution_count": null,
   "metadata": {},
   "outputs": [],
   "source": [
    "\n",
    "for spec in df['species'].unique():          # setosa, versicolor, virginica is all\n",
    "    forspec = df[df['species'] == spec]      # basically get the stats for each species like its own df\n",
    "    forspec ['petal length (cm)'].plot(kind = 'hist', alpha = 0.4, label = spec)     # add it to a chart \n",
    "plt.legend(loc = 'upper right')              # add a legend\n",
    "plt.suptitle(\"PLBS bitches\")                 # add a title "
   ]
  },
  {
   "cell_type": "code",
   "execution_count": null,
   "metadata": {},
   "outputs": [],
   "source": []
  },
  {
   "cell_type": "code",
   "execution_count": null,
   "metadata": {},
   "outputs": [],
   "source": [
    "import math\n",
    "\n",
    "a = [[11,2,4],[4,5,6],[10,8,-12]]\n",
    "\n",
    "location = 0\n",
    "total = 0\n",
    "\n",
    "def abs_diff_diagonal_sums(AoA):\n",
    "    total = 0\n",
    "    index = 0\n",
    "    for array in AoA:\n",
    "        total += array[index]\n",
    "        index += 1\n",
    "\n",
    "    total = 0 \n",
    "    index = 1\n",
    "    for array in AoA:\n",
    "        total += array[-index]\n",
    "        index += 1\n",
    "        \n",
    "    return abs(primary_diagonal(AoA) - secondary_diagonal(AoA))\n",
    "\n",
    "abs_diff_diagonal_sums(a)"
   ]
  },
  {
   "cell_type": "code",
   "execution_count": null,
   "metadata": {},
   "outputs": [],
   "source": [
    "def abs_diff_diagonal_sums(a):\n",
    "    n = len(a)\n",
    "    x = sum(a[i][i] for i in range(n))\n",
    "    y = sum(a[i][n-i-1] for i in range(n))\n",
    "    return abs(x-y)\n",
    "abs_diff_diagonal_sums(a)"
   ]
  },
  {
   "cell_type": "code",
   "execution_count": null,
   "metadata": {},
   "outputs": [],
   "source": [
    "arr = [-4, 3, -9, 0, 4, 1]         \n",
    "\n",
    "\n",
    "def pn0(array):\n",
    "    size = len(array)\n",
    "    pos_count = 0\n",
    "    neg_count = 0\n",
    "    zero_count = 0\n",
    "    \n",
    "    for n in array:\n",
    "        if n < 0:\n",
    "            neg_count += 1\n",
    "        elif n > 0:\n",
    "            pos_count += 1\n",
    "        else:\n",
    "            zero_count += 1\n",
    "            \n",
    "    print(round(pos_count/size, 6))\n",
    "    print(round(neg_count/size, 6))\n",
    "    print(round(zero_count/size, 6))\n",
    "\n",
    "pn0(arr)"
   ]
  },
  {
   "cell_type": "code",
   "execution_count": 113,
   "metadata": {},
   "outputs": [
    {
     "name": "stdout",
     "output_type": "stream",
     "text": [
      "              #\n",
      "             ##\n",
      "            ###\n",
      "           ####\n",
      "          #####\n",
      "         ######\n",
      "        #######\n",
      "       ########\n",
      "      #########\n",
      "     ##########\n",
      "    ###########\n",
      "   ############\n",
      "  #############\n",
      " ##############\n",
      "###############\n"
     ]
    }
   ],
   "source": [
    "#def staircase(n):\n",
    "\n",
    "\n",
    "\n",
    "n = 15\n",
    "\n",
    "\n",
    "\n",
    "def staircase(n):\n",
    "    y = 1\n",
    "    for i in range(n):\n",
    "        stair = (\" \" * (n - 1)) + (\"#\" * y) \n",
    "        print(stair)\n",
    "        n -= 1\n",
    "        y += 1\n",
    "        \n",
    "staircase(n)"
   ]
  },
  {
   "cell_type": "code",
   "execution_count": 118,
   "metadata": {},
   "outputs": [
    {
     "name": "stderr",
     "output_type": "stream",
     "text": [
      "/home/thadryan/.local/lib/python3.5/site-packages/sklearn/cross_validation.py:41: DeprecationWarning: This module was deprecated in version 0.18 in favor of the model_selection module into which all the refactored classes and functions are moved. Also note that the interface of the new CV iterators are different from that of this module. This module will be removed in 0.20.\n",
      "  \"This module will be removed in 0.20.\", DeprecationWarning)\n"
     ]
    },
    {
     "data": {
      "image/png": "[encoded data removed]",
      "text/plain": [
       "<Figure size 432x288 with 1 Axes>"
      ]
     },
     "metadata": {},
     "output_type": "display_data"
    }
   ],
   "source": [
    "from matplotlib import pyplot as plt\n",
    "import sklearn\n",
    "from sklearn.metrics import roc_curve, auc\n",
    "from sklearn.cross_validation import train_test_split\n",
    "from sklearn.linear_model import LogisticRegression\n",
    "from sklearn.tree import DecisionTreeClassifier\n",
    "from sklearn.ensemble import RandomForestClassifier\n",
    "from sklearn.naive_bayes import GaussianNB\n",
    "# name -> (line format, classifier)\n",
    "CLASS_MAP = {\n",
    "    'LogisticRegression':\n",
    "        ('-', LogisticRegression()),\n",
    "    'Naive Bayes': ('--', GaussianNB()),\n",
    "    'Decision Tree':\n",
    "        ('.-', DecisionTreeClassifier(max_depth=5)),\n",
    "    'Random Forest':\n",
    "        (':', RandomForestClassifier(\n",
    "            max_depth=5, n_estimators=10,\n",
    "            max_features=1)),\n",
    "}\n",
    "# Divide cols by independent/dependent, rows by test/ train\n",
    "X, Y = df[df.columns[:3]], (df['species']=='virginica')\n",
    "X_train, X_test, Y_train, Y_test = train_test_split(X, Y, test_size=.8)\n",
    "for name, (line_fmt, model) in CLASS_MAP.items():\n",
    "    model.fit(X_train, Y_train)\n",
    "    # array w one col per label\n",
    "    preds = model.predict_proba(X_test)\n",
    "    pred = pd.Series(preds[:,1])\n",
    "    fpr, tpr, thresholds = roc_curve(Y_test, pred)\n",
    "    auc_score = auc(fpr, tpr)\n",
    "    label='%s: auc=%f' % (name, auc_score)\n",
    "    plt.plot(fpr, tpr, line_fmt,\n",
    "        linewidth=5, label=label)\n",
    "plt.legend(loc=\"lower right\")\n",
    "plt.title('Comparing Classifiers')\n",
    "plt.plot([0, 1], [0, 1], 'k--') #x=y line.  Visual aid\n",
    "plt.xlim([0.0, 1.0])\n",
    "plt.ylim([0.0, 1.05])\n",
    "plt.xlabel('False Positive Rate')\n",
    "plt.ylabel('True Positive Rate')\n",
    "plt.show()"
   ]
  },
  {
   "cell_type": "code",
   "execution_count": 131,
   "metadata": {},
   "outputs": [],
   "source": [
    "#from sklearn.tree import DecisionTreeClassifier\n",
    "#clf = DecisionTreeClassifier(max_depth = 5)\n",
    "#clf.fit([indep_cols, train.breed])\n",
    "#predictions = clf.predict(test[indep_cols])\n",
    "\n",
    "## will get 5 random cases \n",
    "#digits.sample(5)"
   ]
  },
  {
   "cell_type": "code",
   "execution_count": 180,
   "metadata": {},
   "outputs": [
    {
     "ename": "ValueError",
     "evalue": "could not convert string to float: 'versicolor'",
     "output_type": "error",
     "traceback": [
      "\u001b[0;31m---------------------------------------------------------------------------\u001b[0m",
      "\u001b[0;31mValueError\u001b[0m                                Traceback (most recent call last)",
      "\u001b[0;32m<ipython-input-180-9e2ab6000a5c>\u001b[0m in \u001b[0;36m<module>\u001b[0;34m()\u001b[0m\n\u001b[1;32m     10\u001b[0m \u001b[0mclf\u001b[0m \u001b[0;34m=\u001b[0m \u001b[0mDecisionTreeClassifier\u001b[0m\u001b[0;34m(\u001b[0m\u001b[0mmax_depth\u001b[0m \u001b[0;34m=\u001b[0m \u001b[0;36m5\u001b[0m\u001b[0;34m)\u001b[0m\u001b[0;34m\u001b[0m\u001b[0m\n\u001b[1;32m     11\u001b[0m \u001b[0;34m\u001b[0m\u001b[0m\n\u001b[0;32m---> 12\u001b[0;31m \u001b[0mfit\u001b[0m \u001b[0;34m=\u001b[0m \u001b[0mclf\u001b[0m\u001b[0;34m.\u001b[0m\u001b[0mfit\u001b[0m\u001b[0;34m(\u001b[0m\u001b[0mX_train\u001b[0m\u001b[0;34m,\u001b[0m \u001b[0mY_train\u001b[0m\u001b[0;34m)\u001b[0m\u001b[0;34m\u001b[0m\u001b[0m\n\u001b[0m",
      "\u001b[0;32m~/.local/lib/python3.5/site-packages/sklearn/tree/tree.py\u001b[0m in \u001b[0;36mfit\u001b[0;34m(self, X, y, sample_weight, check_input, X_idx_sorted)\u001b[0m\n\u001b[1;32m    788\u001b[0m             \u001b[0msample_weight\u001b[0m\u001b[0;34m=\u001b[0m\u001b[0msample_weight\u001b[0m\u001b[0;34m,\u001b[0m\u001b[0;34m\u001b[0m\u001b[0m\n\u001b[1;32m    789\u001b[0m             \u001b[0mcheck_input\u001b[0m\u001b[0;34m=\u001b[0m\u001b[0mcheck_input\u001b[0m\u001b[0;34m,\u001b[0m\u001b[0;34m\u001b[0m\u001b[0m\n\u001b[0;32m--> 790\u001b[0;31m             X_idx_sorted=X_idx_sorted)\n\u001b[0m\u001b[1;32m    791\u001b[0m         \u001b[0;32mreturn\u001b[0m \u001b[0mself\u001b[0m\u001b[0;34m\u001b[0m\u001b[0m\n\u001b[1;32m    792\u001b[0m \u001b[0;34m\u001b[0m\u001b[0m\n",
      "\u001b[0;32m~/.local/lib/python3.5/site-packages/sklearn/tree/tree.py\u001b[0m in \u001b[0;36mfit\u001b[0;34m(self, X, y, sample_weight, check_input, X_idx_sorted)\u001b[0m\n\u001b[1;32m    114\u001b[0m         \u001b[0mrandom_state\u001b[0m \u001b[0;34m=\u001b[0m \u001b[0mcheck_random_state\u001b[0m\u001b[0;34m(\u001b[0m\u001b[0mself\u001b[0m\u001b[0;34m.\u001b[0m\u001b[0mrandom_state\u001b[0m\u001b[0;34m)\u001b[0m\u001b[0;34m\u001b[0m\u001b[0m\n\u001b[1;32m    115\u001b[0m         \u001b[0;32mif\u001b[0m \u001b[0mcheck_input\u001b[0m\u001b[0;34m:\u001b[0m\u001b[0;34m\u001b[0m\u001b[0m\n\u001b[0;32m--> 116\u001b[0;31m             \u001b[0mX\u001b[0m \u001b[0;34m=\u001b[0m \u001b[0mcheck_array\u001b[0m\u001b[0;34m(\u001b[0m\u001b[0mX\u001b[0m\u001b[0;34m,\u001b[0m \u001b[0mdtype\u001b[0m\u001b[0;34m=\u001b[0m\u001b[0mDTYPE\u001b[0m\u001b[0;34m,\u001b[0m \u001b[0maccept_sparse\u001b[0m\u001b[0;34m=\u001b[0m\u001b[0;34m\"csc\"\u001b[0m\u001b[0;34m)\u001b[0m\u001b[0;34m\u001b[0m\u001b[0m\n\u001b[0m\u001b[1;32m    117\u001b[0m             \u001b[0my\u001b[0m \u001b[0;34m=\u001b[0m \u001b[0mcheck_array\u001b[0m\u001b[0;34m(\u001b[0m\u001b[0my\u001b[0m\u001b[0;34m,\u001b[0m \u001b[0mensure_2d\u001b[0m\u001b[0;34m=\u001b[0m\u001b[0;32mFalse\u001b[0m\u001b[0;34m,\u001b[0m \u001b[0mdtype\u001b[0m\u001b[0;34m=\u001b[0m\u001b[0;32mNone\u001b[0m\u001b[0;34m)\u001b[0m\u001b[0;34m\u001b[0m\u001b[0m\n\u001b[1;32m    118\u001b[0m             \u001b[0;32mif\u001b[0m \u001b[0missparse\u001b[0m\u001b[0;34m(\u001b[0m\u001b[0mX\u001b[0m\u001b[0;34m)\u001b[0m\u001b[0;34m:\u001b[0m\u001b[0;34m\u001b[0m\u001b[0m\n",
      "\u001b[0;32m~/.local/lib/python3.5/site-packages/sklearn/utils/validation.py\u001b[0m in \u001b[0;36mcheck_array\u001b[0;34m(array, accept_sparse, dtype, order, copy, force_all_finite, ensure_2d, allow_nd, ensure_min_samples, ensure_min_features, warn_on_dtype, estimator)\u001b[0m\n\u001b[1;32m    431\u001b[0m                                       force_all_finite)\n\u001b[1;32m    432\u001b[0m     \u001b[0;32melse\u001b[0m\u001b[0;34m:\u001b[0m\u001b[0;34m\u001b[0m\u001b[0m\n\u001b[0;32m--> 433\u001b[0;31m         \u001b[0marray\u001b[0m \u001b[0;34m=\u001b[0m \u001b[0mnp\u001b[0m\u001b[0;34m.\u001b[0m\u001b[0marray\u001b[0m\u001b[0;34m(\u001b[0m\u001b[0marray\u001b[0m\u001b[0;34m,\u001b[0m \u001b[0mdtype\u001b[0m\u001b[0;34m=\u001b[0m\u001b[0mdtype\u001b[0m\u001b[0;34m,\u001b[0m \u001b[0morder\u001b[0m\u001b[0;34m=\u001b[0m\u001b[0morder\u001b[0m\u001b[0;34m,\u001b[0m \u001b[0mcopy\u001b[0m\u001b[0;34m=\u001b[0m\u001b[0mcopy\u001b[0m\u001b[0;34m)\u001b[0m\u001b[0;34m\u001b[0m\u001b[0m\n\u001b[0m\u001b[1;32m    434\u001b[0m \u001b[0;34m\u001b[0m\u001b[0m\n\u001b[1;32m    435\u001b[0m         \u001b[0;32mif\u001b[0m \u001b[0mensure_2d\u001b[0m\u001b[0;34m:\u001b[0m\u001b[0;34m\u001b[0m\u001b[0m\n",
      "\u001b[0;31mValueError\u001b[0m: could not convert string to float: 'versicolor'"
     ]
    }
   ],
   "source": [
    "from sklearn.datasets import load_iris\n",
    "from sklearn.model_selection import cross_val_score\n",
    "from sklearn.tree import DecisionTreeClassifier\n",
    "\n",
    "\n",
    "iris = get_iris_df()\n",
    "\n",
    "X_train, X_test, y_train, y_test = train_test_split(iris, iris.species, test_size=0.2)\n",
    "\n",
    "clf = DecisionTreeClassifier(max_depth = 5)\n",
    "\n",
    "fit = clf.fit(X_train, Y_)"
   ]
  },
  {
   "cell_type": "code",
   "execution_count": null,
   "metadata": {},
   "outputs": [],
   "source": []
  }
 ],
 "metadata": {
  "kernelspec": {
   "display_name": "Python 3",
   "language": "python",
   "name": "python3"
  },
  "language_info": {
   "codemirror_mode": {
    "name": "ipython",
    "version": 3
   },
   "file_extension": ".py",
   "mimetype": "text/x-python",
   "name": "python",
   "nbconvert_exporter": "python",
   "pygments_lexer": "ipython3",
   "version": "3.5.3"
  }
 },
 "nbformat": 4,
 "nbformat_minor": 2
}
